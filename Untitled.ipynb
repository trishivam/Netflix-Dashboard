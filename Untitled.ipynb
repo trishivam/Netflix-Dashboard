{
 "cells": [
  {
   "cell_type": "markdown",
   "id": "c06cbf13-49e0-4c1f-ab09-6b4975bd0164",
   "metadata": {},
   "source": [
    "Requirements"
   ]
  },
  {
   "cell_type": "markdown",
   "id": "6d396fe2-67f1-4540-850e-55f153f0043d",
   "metadata": {},
   "source": [
    "problem Statement\n",
    "Dataset\n",
    "sources and access of the data\n",
    "Understand the data"
   ]
  },
  {
   "cell_type": "code",
   "execution_count": 1,
   "id": "8bd1fcfb-8b32-47b7-b575-03008337e430",
   "metadata": {},
   "outputs": [],
   "source": [
    "# import libraries\n",
    "import numpy as np\n",
    "import pandas as pd"
   ]
  },
  {
   "cell_type": "code",
   "execution_count": 2,
   "id": "91a3455e-cec5-4229-9d82-bd8632cd8253",
   "metadata": {},
   "outputs": [],
   "source": [
    "df =pd.read_csv(\"netflix_titles.csv\")\n"
   ]
  },
  {
   "cell_type": "code",
   "execution_count": 3,
   "id": "07ce031b-9724-4783-a71f-efae4278e104",
   "metadata": {
    "scrolled": true
   },
   "outputs": [
    {
     "data": {
      "text/html": [
       "<div>\n",
       "<style scoped>\n",
       "    .dataframe tbody tr th:only-of-type {\n",
       "        vertical-align: middle;\n",
       "    }\n",
       "\n",
       "    .dataframe tbody tr th {\n",
       "        vertical-align: top;\n",
       "    }\n",
       "\n",
       "    .dataframe thead th {\n",
       "        text-align: right;\n",
       "    }\n",
       "</style>\n",
       "<table border=\"1\" class=\"dataframe\">\n",
       "  <thead>\n",
       "    <tr style=\"text-align: right;\">\n",
       "      <th></th>\n",
       "      <th>show_id</th>\n",
       "      <th>type</th>\n",
       "      <th>title</th>\n",
       "      <th>director</th>\n",
       "      <th>cast</th>\n",
       "      <th>country</th>\n",
       "      <th>date_added</th>\n",
       "      <th>release_year</th>\n",
       "      <th>rating</th>\n",
       "      <th>duration</th>\n",
       "      <th>listed_in</th>\n",
       "      <th>description</th>\n",
       "    </tr>\n",
       "  </thead>\n",
       "  <tbody>\n",
       "    <tr>\n",
       "      <th>1338</th>\n",
       "      <td>s1339</td>\n",
       "      <td>TV Show</td>\n",
       "      <td>Hache</td>\n",
       "      <td>NaN</td>\n",
       "      <td>Adriana Ugarte, Javier Rey, Eduardo Noriega, M...</td>\n",
       "      <td>Spain</td>\n",
       "      <td>February 5, 2021</td>\n",
       "      <td>2021</td>\n",
       "      <td>TV-MA</td>\n",
       "      <td>2 Seasons</td>\n",
       "      <td>Crime TV Shows, International TV Shows, Spanis...</td>\n",
       "      <td>As Helena gains the love and trust of a danger...</td>\n",
       "    </tr>\n",
       "    <tr>\n",
       "      <th>5604</th>\n",
       "      <td>s5605</td>\n",
       "      <td>Movie</td>\n",
       "      <td>The Fury of a Patient Man</td>\n",
       "      <td>Raúl Arévalo</td>\n",
       "      <td>Antonio de la Torre, Luis Callejo, Ruth Díaz, ...</td>\n",
       "      <td>Spain</td>\n",
       "      <td>February 15, 2017</td>\n",
       "      <td>2016</td>\n",
       "      <td>TV-MA</td>\n",
       "      <td>92 min</td>\n",
       "      <td>International Movies, Thrillers</td>\n",
       "      <td>After his lover is killed in a jewelry store r...</td>\n",
       "    </tr>\n",
       "    <tr>\n",
       "      <th>1959</th>\n",
       "      <td>s1960</td>\n",
       "      <td>Movie</td>\n",
       "      <td>Enola Holmes</td>\n",
       "      <td>Harry Bradbeer</td>\n",
       "      <td>Millie Bobby Brown, Henry Cavill, Sam Claflin,...</td>\n",
       "      <td>United Kingdom</td>\n",
       "      <td>September 23, 2020</td>\n",
       "      <td>2020</td>\n",
       "      <td>PG-13</td>\n",
       "      <td>124 min</td>\n",
       "      <td>Action &amp; Adventure, Children &amp; Family Movies, ...</td>\n",
       "      <td>While searching for her missing mother, intrep...</td>\n",
       "    </tr>\n",
       "    <tr>\n",
       "      <th>56</th>\n",
       "      <td>s57</td>\n",
       "      <td>Movie</td>\n",
       "      <td>Naruto Shippuden the Movie: Blood Prison</td>\n",
       "      <td>Masahiko Murata</td>\n",
       "      <td>Junko Takeuchi, Chie Nakamura, Rikiya Koyama, ...</td>\n",
       "      <td>Japan</td>\n",
       "      <td>September 15, 2021</td>\n",
       "      <td>2011</td>\n",
       "      <td>TV-14</td>\n",
       "      <td>102 min</td>\n",
       "      <td>Action &amp; Adventure, Anime Features, Internatio...</td>\n",
       "      <td>Mistakenly accused of an attack on the Fourth ...</td>\n",
       "    </tr>\n",
       "    <tr>\n",
       "      <th>3427</th>\n",
       "      <td>s3428</td>\n",
       "      <td>Movie</td>\n",
       "      <td>Bygones Be Bygones</td>\n",
       "      <td>Hakan Algül</td>\n",
       "      <td>Ata Demirer, Tuvana Türkay, Ülkü Duru, Salih K...</td>\n",
       "      <td>Turkey</td>\n",
       "      <td>October 11, 2019</td>\n",
       "      <td>2017</td>\n",
       "      <td>TV-MA</td>\n",
       "      <td>104 min</td>\n",
       "      <td>Comedies, International Movies, Romantic Movies</td>\n",
       "      <td>A mother's plan to find her bachelor son a mat...</td>\n",
       "    </tr>\n",
       "  </tbody>\n",
       "</table>\n",
       "</div>"
      ],
      "text/plain": [
       "     show_id     type                                     title  \\\n",
       "1338   s1339  TV Show                                     Hache   \n",
       "5604   s5605    Movie                 The Fury of a Patient Man   \n",
       "1959   s1960    Movie                              Enola Holmes   \n",
       "56       s57    Movie  Naruto Shippuden the Movie: Blood Prison   \n",
       "3427   s3428    Movie                        Bygones Be Bygones   \n",
       "\n",
       "             director                                               cast  \\\n",
       "1338              NaN  Adriana Ugarte, Javier Rey, Eduardo Noriega, M...   \n",
       "5604     Raúl Arévalo  Antonio de la Torre, Luis Callejo, Ruth Díaz, ...   \n",
       "1959   Harry Bradbeer  Millie Bobby Brown, Henry Cavill, Sam Claflin,...   \n",
       "56    Masahiko Murata  Junko Takeuchi, Chie Nakamura, Rikiya Koyama, ...   \n",
       "3427      Hakan Algül  Ata Demirer, Tuvana Türkay, Ülkü Duru, Salih K...   \n",
       "\n",
       "             country          date_added  release_year rating   duration  \\\n",
       "1338           Spain    February 5, 2021          2021  TV-MA  2 Seasons   \n",
       "5604           Spain   February 15, 2017          2016  TV-MA     92 min   \n",
       "1959  United Kingdom  September 23, 2020          2020  PG-13    124 min   \n",
       "56             Japan  September 15, 2021          2011  TV-14    102 min   \n",
       "3427          Turkey    October 11, 2019          2017  TV-MA    104 min   \n",
       "\n",
       "                                              listed_in  \\\n",
       "1338  Crime TV Shows, International TV Shows, Spanis...   \n",
       "5604                    International Movies, Thrillers   \n",
       "1959  Action & Adventure, Children & Family Movies, ...   \n",
       "56    Action & Adventure, Anime Features, Internatio...   \n",
       "3427    Comedies, International Movies, Romantic Movies   \n",
       "\n",
       "                                            description  \n",
       "1338  As Helena gains the love and trust of a danger...  \n",
       "5604  After his lover is killed in a jewelry store r...  \n",
       "1959  While searching for her missing mother, intrep...  \n",
       "56    Mistakenly accused of an attack on the Fourth ...  \n",
       "3427  A mother's plan to find her bachelor son a mat...  "
      ]
     },
     "execution_count": 3,
     "metadata": {},
     "output_type": "execute_result"
    }
   ],
   "source": [
    "df.sample(5)"
   ]
  },
  {
   "cell_type": "code",
   "execution_count": 4,
   "id": "5ce76f44-e425-4656-97b5-9949873b81e9",
   "metadata": {},
   "outputs": [],
   "source": [
    "df.drop([\"show_id\",\"description\"], axis=1, inplace=True)"
   ]
  },
  {
   "cell_type": "code",
   "execution_count": 5,
   "id": "2bb1db89-5a75-4fe3-a41a-361c2605ea11",
   "metadata": {},
   "outputs": [
    {
     "data": {
      "text/html": [
       "<div>\n",
       "<style scoped>\n",
       "    .dataframe tbody tr th:only-of-type {\n",
       "        vertical-align: middle;\n",
       "    }\n",
       "\n",
       "    .dataframe tbody tr th {\n",
       "        vertical-align: top;\n",
       "    }\n",
       "\n",
       "    .dataframe thead th {\n",
       "        text-align: right;\n",
       "    }\n",
       "</style>\n",
       "<table border=\"1\" class=\"dataframe\">\n",
       "  <thead>\n",
       "    <tr style=\"text-align: right;\">\n",
       "      <th></th>\n",
       "      <th>type</th>\n",
       "      <th>title</th>\n",
       "      <th>director</th>\n",
       "      <th>cast</th>\n",
       "      <th>country</th>\n",
       "      <th>date_added</th>\n",
       "      <th>release_year</th>\n",
       "      <th>rating</th>\n",
       "      <th>duration</th>\n",
       "      <th>listed_in</th>\n",
       "    </tr>\n",
       "  </thead>\n",
       "  <tbody>\n",
       "    <tr>\n",
       "      <th>2270</th>\n",
       "      <td>Movie</td>\n",
       "      <td>Chashme Baddoor</td>\n",
       "      <td>David Dhawan</td>\n",
       "      <td>Rishi Kapoor, Ali Zafar, Taapsee Pannu, Siddha...</td>\n",
       "      <td>India</td>\n",
       "      <td>July 5, 2020</td>\n",
       "      <td>2013</td>\n",
       "      <td>TV-14</td>\n",
       "      <td>121 min</td>\n",
       "      <td>Comedies, International Movies, Music &amp; Musicals</td>\n",
       "    </tr>\n",
       "    <tr>\n",
       "      <th>4630</th>\n",
       "      <td>Movie</td>\n",
       "      <td>Quincy</td>\n",
       "      <td>Rashida Jones, Alan Hicks</td>\n",
       "      <td>Quincy Jones</td>\n",
       "      <td>United States</td>\n",
       "      <td>September 21, 2018</td>\n",
       "      <td>2018</td>\n",
       "      <td>TV-MA</td>\n",
       "      <td>124 min</td>\n",
       "      <td>Documentaries, Music &amp; Musicals</td>\n",
       "    </tr>\n",
       "    <tr>\n",
       "      <th>3833</th>\n",
       "      <td>Movie</td>\n",
       "      <td>Shéhérazade</td>\n",
       "      <td>Jean-Bernard Marlin</td>\n",
       "      <td>Dylan Robert, Kenza Fortas, Idir Azougli, Lisa...</td>\n",
       "      <td>France</td>\n",
       "      <td>May 11, 2019</td>\n",
       "      <td>2019</td>\n",
       "      <td>TV-MA</td>\n",
       "      <td>111 min</td>\n",
       "      <td>Dramas, Independent Movies, International Movies</td>\n",
       "    </tr>\n",
       "    <tr>\n",
       "      <th>7969</th>\n",
       "      <td>Movie</td>\n",
       "      <td>Secret in Their Eyes</td>\n",
       "      <td>Billy Ray</td>\n",
       "      <td>Chiwetel Ejiofor, Nicole Kidman, Julia Roberts...</td>\n",
       "      <td>United States, United Kingdom, Spain, South Korea</td>\n",
       "      <td>April 1, 2018</td>\n",
       "      <td>2015</td>\n",
       "      <td>PG-13</td>\n",
       "      <td>111 min</td>\n",
       "      <td>Dramas, Thrillers</td>\n",
       "    </tr>\n",
       "    <tr>\n",
       "      <th>957</th>\n",
       "      <td>TV Show</td>\n",
       "      <td>Pet Stars</td>\n",
       "      <td>NaN</td>\n",
       "      <td>NaN</td>\n",
       "      <td>NaN</td>\n",
       "      <td>April 30, 2021</td>\n",
       "      <td>2021</td>\n",
       "      <td>TV-PG</td>\n",
       "      <td>1 Season</td>\n",
       "      <td>Reality TV</td>\n",
       "    </tr>\n",
       "  </tbody>\n",
       "</table>\n",
       "</div>"
      ],
      "text/plain": [
       "         type                 title                   director  \\\n",
       "2270    Movie       Chashme Baddoor               David Dhawan   \n",
       "4630    Movie                Quincy  Rashida Jones, Alan Hicks   \n",
       "3833    Movie           Shéhérazade        Jean-Bernard Marlin   \n",
       "7969    Movie  Secret in Their Eyes                  Billy Ray   \n",
       "957   TV Show             Pet Stars                        NaN   \n",
       "\n",
       "                                                   cast  \\\n",
       "2270  Rishi Kapoor, Ali Zafar, Taapsee Pannu, Siddha...   \n",
       "4630                                       Quincy Jones   \n",
       "3833  Dylan Robert, Kenza Fortas, Idir Azougli, Lisa...   \n",
       "7969  Chiwetel Ejiofor, Nicole Kidman, Julia Roberts...   \n",
       "957                                                 NaN   \n",
       "\n",
       "                                                country          date_added  \\\n",
       "2270                                              India        July 5, 2020   \n",
       "4630                                      United States  September 21, 2018   \n",
       "3833                                             France        May 11, 2019   \n",
       "7969  United States, United Kingdom, Spain, South Korea       April 1, 2018   \n",
       "957                                                 NaN      April 30, 2021   \n",
       "\n",
       "      release_year rating  duration  \\\n",
       "2270          2013  TV-14   121 min   \n",
       "4630          2018  TV-MA   124 min   \n",
       "3833          2019  TV-MA   111 min   \n",
       "7969          2015  PG-13   111 min   \n",
       "957           2021  TV-PG  1 Season   \n",
       "\n",
       "                                             listed_in  \n",
       "2270  Comedies, International Movies, Music & Musicals  \n",
       "4630                   Documentaries, Music & Musicals  \n",
       "3833  Dramas, Independent Movies, International Movies  \n",
       "7969                                 Dramas, Thrillers  \n",
       "957                                         Reality TV  "
      ]
     },
     "execution_count": 5,
     "metadata": {},
     "output_type": "execute_result"
    }
   ],
   "source": [
    "df.sample(5)"
   ]
  },
  {
   "cell_type": "code",
   "execution_count": 6,
   "id": "2473807c-d9b8-4426-baef-c40df1af8216",
   "metadata": {},
   "outputs": [
    {
     "data": {
      "text/plain": [
       "(8807, 10)"
      ]
     },
     "execution_count": 6,
     "metadata": {},
     "output_type": "execute_result"
    }
   ],
   "source": [
    "df.shape"
   ]
  },
  {
   "cell_type": "code",
   "execution_count": 7,
   "id": "362a74a4-1470-414e-a57e-8c6dc8861537",
   "metadata": {},
   "outputs": [
    {
     "data": {
      "text/plain": [
       "88070"
      ]
     },
     "execution_count": 7,
     "metadata": {},
     "output_type": "execute_result"
    }
   ],
   "source": [
    "df.size"
   ]
  },
  {
   "cell_type": "code",
   "execution_count": 8,
   "id": "ee1bd753-7ea5-404f-bba5-6d97ee452422",
   "metadata": {},
   "outputs": [
    {
     "data": {
      "text/plain": [
       "RangeIndex(start=0, stop=8807, step=1)"
      ]
     },
     "execution_count": 8,
     "metadata": {},
     "output_type": "execute_result"
    }
   ],
   "source": [
    "df.index"
   ]
  },
  {
   "cell_type": "code",
   "execution_count": 9,
   "id": "2feee295-9d1b-4cb5-8973-59d601e647de",
   "metadata": {},
   "outputs": [
    {
     "data": {
      "text/plain": [
       "Index(['type', 'title', 'director', 'cast', 'country', 'date_added',\n",
       "       'release_year', 'rating', 'duration', 'listed_in'],\n",
       "      dtype='object')"
      ]
     },
     "execution_count": 9,
     "metadata": {},
     "output_type": "execute_result"
    }
   ],
   "source": [
    "df.columns"
   ]
  },
  {
   "cell_type": "code",
   "execution_count": 10,
   "id": "2c0641f4-faf8-4fe0-8107-77cc942131f5",
   "metadata": {},
   "outputs": [
    {
     "name": "stdout",
     "output_type": "stream",
     "text": [
      "<class 'pandas.core.frame.DataFrame'>\n",
      "RangeIndex: 8807 entries, 0 to 8806\n",
      "Data columns (total 10 columns):\n",
      " #   Column        Non-Null Count  Dtype \n",
      "---  ------        --------------  ----- \n",
      " 0   type          8807 non-null   object\n",
      " 1   title         8807 non-null   object\n",
      " 2   director      6173 non-null   object\n",
      " 3   cast          7982 non-null   object\n",
      " 4   country       7976 non-null   object\n",
      " 5   date_added    8797 non-null   object\n",
      " 6   release_year  8807 non-null   int64 \n",
      " 7   rating        8803 non-null   object\n",
      " 8   duration      8804 non-null   object\n",
      " 9   listed_in     8807 non-null   object\n",
      "dtypes: int64(1), object(9)\n",
      "memory usage: 688.2+ KB\n"
     ]
    }
   ],
   "source": [
    "df.info()"
   ]
  },
  {
   "cell_type": "code",
   "execution_count": 11,
   "id": "814c71e8-6e2b-4c36-b006-7cf3518483f7",
   "metadata": {},
   "outputs": [
    {
     "data": {
      "text/plain": [
       "type               0\n",
       "title              0\n",
       "director        2634\n",
       "cast             825\n",
       "country          831\n",
       "date_added        10\n",
       "release_year       0\n",
       "rating             4\n",
       "duration           3\n",
       "listed_in          0\n",
       "dtype: int64"
      ]
     },
     "execution_count": 11,
     "metadata": {},
     "output_type": "execute_result"
    }
   ],
   "source": [
    " df.isna().sum()"
   ]
  },
  {
   "cell_type": "code",
   "execution_count": 14,
   "id": "72f9416e-8921-440c-a376-fdfbef0d4105",
   "metadata": {},
   "outputs": [
    {
     "data": {
      "text/plain": [
       "country\n",
       "United States     2818\n",
       "India              972\n",
       "United Kingdom     419\n",
       "Name: count, dtype: int64"
      ]
     },
     "execution_count": 14,
     "metadata": {},
     "output_type": "execute_result"
    }
   ],
   "source": [
    "df[\"country\"].value_counts().head(3)"
   ]
  },
  {
   "cell_type": "code",
   "execution_count": 15,
   "id": "ccc02e49-af36-4f8a-bdc9-690839deabb3",
   "metadata": {},
   "outputs": [
    {
     "data": {
      "text/plain": [
       "'United States'"
      ]
     },
     "execution_count": 15,
     "metadata": {},
     "output_type": "execute_result"
    }
   ],
   "source": [
    "mode_country= df[\"country\"].mode()[0]\n",
    "mode_country"
   ]
  },
  {
   "cell_type": "code",
   "execution_count": 16,
   "id": "0596694f-a6b8-49f6-8927-28abdd7746ab",
   "metadata": {},
   "outputs": [],
   "source": [
    "df[\"country\"]= df[\"country\"].fillna(mode_country)"
   ]
  },
  {
   "cell_type": "code",
   "execution_count": 17,
   "id": "ef3ba5ee-eac5-46e2-9ad9-4dad5880a31c",
   "metadata": {},
   "outputs": [
    {
     "data": {
      "text/plain": [
       "0"
      ]
     },
     "execution_count": 17,
     "metadata": {},
     "output_type": "execute_result"
    }
   ],
   "source": [
    "df[\"country\"].isna().sum()"
   ]
  },
  {
   "cell_type": "code",
   "execution_count": 18,
   "id": "798cf67b-1a52-45f2-8e9d-f663edfd3539",
   "metadata": {},
   "outputs": [
    {
     "data": {
      "text/plain": [
       "date_added\n",
       "January 1, 2020     109\n",
       "November 1, 2019     89\n",
       "March 1, 2018        75\n",
       "Name: count, dtype: int64"
      ]
     },
     "execution_count": 18,
     "metadata": {},
     "output_type": "execute_result"
    }
   ],
   "source": [
    "df[\"date_added\"].value_counts().head(3)"
   ]
  },
  {
   "cell_type": "code",
   "execution_count": 19,
   "id": "f54cfcfb-bba0-44af-8652-151fbd7a7a96",
   "metadata": {},
   "outputs": [],
   "source": [
    "mode_date= df[\"date_added\"].mode()[0]"
   ]
  },
  {
   "cell_type": "code",
   "execution_count": 20,
   "id": "6c396217-09f4-4969-89f3-0a80cec75558",
   "metadata": {},
   "outputs": [
    {
     "data": {
      "text/plain": [
       "'January 1, 2020'"
      ]
     },
     "execution_count": 20,
     "metadata": {},
     "output_type": "execute_result"
    }
   ],
   "source": [
    "mode_date"
   ]
  },
  {
   "cell_type": "code",
   "execution_count": 21,
   "id": "7c0bdabb-602b-4454-99f9-7fc57ffa3dbb",
   "metadata": {},
   "outputs": [],
   "source": [
    "df[\"date_added\"]=df[\"date_added\"].fillna(mode_date)"
   ]
  },
  {
   "cell_type": "code",
   "execution_count": 22,
   "id": "a41e02cb-3e00-43cf-86c1-17a15712acca",
   "metadata": {},
   "outputs": [
    {
     "data": {
      "text/plain": [
       "0"
      ]
     },
     "execution_count": 22,
     "metadata": {},
     "output_type": "execute_result"
    }
   ],
   "source": [
    "df[\"date_added\"].isna().sum()"
   ]
  },
  {
   "cell_type": "code",
   "execution_count": 23,
   "id": "de154104-cc6f-41b0-95c5-f0e024ef39f4",
   "metadata": {},
   "outputs": [],
   "source": [
    "mode_rating=df[\"rating\"].mode()[0]"
   ]
  },
  {
   "cell_type": "code",
   "execution_count": 24,
   "id": "6ccfb234-4896-436f-b1fb-7bdbec5eca3b",
   "metadata": {},
   "outputs": [
    {
     "data": {
      "text/plain": [
       "'TV-MA'"
      ]
     },
     "execution_count": 24,
     "metadata": {},
     "output_type": "execute_result"
    }
   ],
   "source": [
    "mode_rating"
   ]
  },
  {
   "cell_type": "code",
   "execution_count": 25,
   "id": "3a9ba130-1d05-4675-891e-0b0d7f177b88",
   "metadata": {},
   "outputs": [],
   "source": [
    "df[\"rating\"]=df[\"rating\"].fillna(mode_rating)"
   ]
  },
  {
   "cell_type": "code",
   "execution_count": 26,
   "id": "d6a5116d-c12d-48dc-a7fd-459564867387",
   "metadata": {},
   "outputs": [
    {
     "data": {
      "text/plain": [
       "0"
      ]
     },
     "execution_count": 26,
     "metadata": {},
     "output_type": "execute_result"
    }
   ],
   "source": [
    "df[\"rating\"].isna().sum()"
   ]
  },
  {
   "cell_type": "code",
   "execution_count": 27,
   "id": "dd20367d-ff7e-44af-b797-fccc71dacab4",
   "metadata": {},
   "outputs": [],
   "source": [
    "mode_duration=df[\"duration\"].mode()[0]"
   ]
  },
  {
   "cell_type": "code",
   "execution_count": 28,
   "id": "5237aeb9-2515-40df-9fa7-ed36134003fc",
   "metadata": {},
   "outputs": [
    {
     "data": {
      "text/plain": [
       "'1 Season'"
      ]
     },
     "execution_count": 28,
     "metadata": {},
     "output_type": "execute_result"
    }
   ],
   "source": [
    "mode_duration"
   ]
  },
  {
   "cell_type": "code",
   "execution_count": 29,
   "id": "16c09c89-f4f0-4af6-91b1-377d04c73673",
   "metadata": {},
   "outputs": [],
   "source": [
    "df[\"duration\"]=df[\"duration\"].fillna(mode_duration)"
   ]
  },
  {
   "cell_type": "code",
   "execution_count": 30,
   "id": "1d593155-3913-41cf-8e05-ec6403a655f6",
   "metadata": {},
   "outputs": [
    {
     "data": {
      "text/plain": [
       "0"
      ]
     },
     "execution_count": 30,
     "metadata": {},
     "output_type": "execute_result"
    }
   ],
   "source": [
    "df[\"duration\"].isna().sum()"
   ]
  },
  {
   "cell_type": "code",
   "execution_count": 31,
   "id": "16c6eea8-c02f-4c0d-86bc-ace23b8608e6",
   "metadata": {},
   "outputs": [],
   "source": [
    "df[\"director\"]=df[\"director\"].fillna(\"Not Mentioned\")"
   ]
  },
  {
   "cell_type": "code",
   "execution_count": 32,
   "id": "7aa4afbc-ed7d-4b1c-ac46-888fe9af4bd3",
   "metadata": {},
   "outputs": [
    {
     "data": {
      "text/plain": [
       "0"
      ]
     },
     "execution_count": 32,
     "metadata": {},
     "output_type": "execute_result"
    }
   ],
   "source": [
    "df[\"director\"].isna().sum()"
   ]
  },
  {
   "cell_type": "code",
   "execution_count": 33,
   "id": "52d2bdaa-62c4-4c57-8545-41eebcd8bdcd",
   "metadata": {},
   "outputs": [],
   "source": [
    "df[\"cast\"]=df[\"cast\"].fillna(\"Not Mentioned\")"
   ]
  },
  {
   "cell_type": "code",
   "execution_count": 34,
   "id": "c3f7d4a0-90cc-4644-b034-90a9eaf681ff",
   "metadata": {},
   "outputs": [
    {
     "data": {
      "text/plain": [
       "0"
      ]
     },
     "execution_count": 34,
     "metadata": {},
     "output_type": "execute_result"
    }
   ],
   "source": [
    "df[\"cast\"].isna().sum()"
   ]
  },
  {
   "cell_type": "code",
   "execution_count": 35,
   "id": "f2625d81-d6cd-4752-8867-f0d0b09f076f",
   "metadata": {},
   "outputs": [
    {
     "name": "stdout",
     "output_type": "stream",
     "text": [
      "<class 'pandas.core.frame.DataFrame'>\n",
      "RangeIndex: 8807 entries, 0 to 8806\n",
      "Data columns (total 10 columns):\n",
      " #   Column        Non-Null Count  Dtype \n",
      "---  ------        --------------  ----- \n",
      " 0   type          8807 non-null   object\n",
      " 1   title         8807 non-null   object\n",
      " 2   director      8807 non-null   object\n",
      " 3   cast          8807 non-null   object\n",
      " 4   country       8807 non-null   object\n",
      " 5   date_added    8807 non-null   object\n",
      " 6   release_year  8807 non-null   int64 \n",
      " 7   rating        8807 non-null   object\n",
      " 8   duration      8807 non-null   object\n",
      " 9   listed_in     8807 non-null   object\n",
      "dtypes: int64(1), object(9)\n",
      "memory usage: 688.2+ KB\n"
     ]
    }
   ],
   "source": [
    "df.info()"
   ]
  },
  {
   "cell_type": "code",
   "execution_count": 36,
   "id": "d7b89a35-46fd-4cc3-845c-28bce180b7e5",
   "metadata": {},
   "outputs": [
    {
     "data": {
      "text/plain": [
       "array(['PG-13', 'TV-MA', 'PG', 'TV-14', 'TV-PG', 'TV-Y', 'TV-Y7', 'R',\n",
       "       'TV-G', 'G', 'NC-17', '74 min', '84 min', '66 min', 'NR',\n",
       "       'TV-Y7-FV', 'UR'], dtype=object)"
      ]
     },
     "execution_count": 36,
     "metadata": {},
     "output_type": "execute_result"
    }
   ],
   "source": [
    "df[\"rating\"].unique()"
   ]
  },
  {
   "cell_type": "code",
   "execution_count": 37,
   "id": "47f23369-0f8a-4738-8088-234b1bd0f1d4",
   "metadata": {},
   "outputs": [],
   "source": [
    "df= df[~df[\"rating\"].str.contains(\"min\")]"
   ]
  },
  {
   "cell_type": "code",
   "execution_count": 38,
   "id": "8c5a6836-9040-4fdb-865c-ade868a7faba",
   "metadata": {},
   "outputs": [
    {
     "data": {
      "text/plain": [
       "array(['PG-13', 'TV-MA', 'PG', 'TV-14', 'TV-PG', 'TV-Y', 'TV-Y7', 'R',\n",
       "       'TV-G', 'G', 'NC-17', 'NR', 'TV-Y7-FV', 'UR'], dtype=object)"
      ]
     },
     "execution_count": 38,
     "metadata": {},
     "output_type": "execute_result"
    }
   ],
   "source": [
    "df[\"rating\"].unique()"
   ]
  },
  {
   "cell_type": "code",
   "execution_count": 39,
   "id": "e6ef6502-fc29-4ad9-880b-cff64373ed29",
   "metadata": {},
   "outputs": [
    {
     "data": {
      "text/plain": [
       "array(['September 25, 2021', 'September 24, 2021', 'September 23, 2021',\n",
       "       ..., 'December 6, 2018', 'March 9, 2016', 'January 11, 2020'],\n",
       "      dtype=object)"
      ]
     },
     "execution_count": 39,
     "metadata": {},
     "output_type": "execute_result"
    }
   ],
   "source": [
    "df[\"date_added\"].unique()"
   ]
  },
  {
   "cell_type": "code",
   "execution_count": 40,
   "id": "30f6c8bb-f171-49b8-a4c1-7cbb94edd2f8",
   "metadata": {},
   "outputs": [
    {
     "name": "stderr",
     "output_type": "stream",
     "text": [
      "C:\\Users\\shaimishra\\AppData\\Local\\Temp\\ipykernel_33932\\2649166716.py:1: SettingWithCopyWarning: \n",
      "A value is trying to be set on a copy of a slice from a DataFrame.\n",
      "Try using .loc[row_indexer,col_indexer] = value instead\n",
      "\n",
      "See the caveats in the documentation: https://pandas.pydata.org/pandas-docs/stable/user_guide/indexing.html#returning-a-view-versus-a-copy\n",
      "  df[\"date_added\"]=df[\"date_added\"].str.replace(\",\",\"\")\n"
     ]
    }
   ],
   "source": [
    "df[\"date_added\"]=df[\"date_added\"].str.replace(\",\",\"\")"
   ]
  },
  {
   "cell_type": "code",
   "execution_count": 41,
   "id": "c375ceab-f18b-44da-a5d8-0072f99bc44b",
   "metadata": {},
   "outputs": [
    {
     "data": {
      "text/plain": [
       "array(['September 25 2021', 'September 24 2021', 'September 23 2021', ...,\n",
       "       'December 6 2018', 'March 9 2016', 'January 11 2020'], dtype=object)"
      ]
     },
     "execution_count": 41,
     "metadata": {},
     "output_type": "execute_result"
    }
   ],
   "source": [
    "df[\"date_added\"].unique()"
   ]
  },
  {
   "cell_type": "code",
   "execution_count": 42,
   "id": "3af076c7-e0be-4706-bcf9-96673337d06e",
   "metadata": {},
   "outputs": [
    {
     "name": "stderr",
     "output_type": "stream",
     "text": [
      "C:\\Users\\shaimishra\\AppData\\Local\\Temp\\ipykernel_33932\\498004367.py:1: SettingWithCopyWarning: \n",
      "A value is trying to be set on a copy of a slice from a DataFrame.\n",
      "Try using .loc[row_indexer,col_indexer] = value instead\n",
      "\n",
      "See the caveats in the documentation: https://pandas.pydata.org/pandas-docs/stable/user_guide/indexing.html#returning-a-view-versus-a-copy\n",
      "  df[\"date_added\"] = pd.to_datetime(df[\"date_added\"], format=\"mixed\")\n"
     ]
    }
   ],
   "source": [
    "df[\"date_added\"] = pd.to_datetime(df[\"date_added\"], format=\"mixed\")"
   ]
  },
  {
   "cell_type": "code",
   "execution_count": 43,
   "id": "d9fdfec7-4eee-4309-965c-2a1104c7aa59",
   "metadata": {},
   "outputs": [
    {
     "data": {
      "text/plain": [
       "<DatetimeArray>\n",
       "['2021-09-25 00:00:00', '2021-09-24 00:00:00', '2021-09-23 00:00:00',\n",
       " '2021-09-22 00:00:00', '2021-09-21 00:00:00', '2021-09-20 00:00:00',\n",
       " '2021-09-19 00:00:00', '2021-09-17 00:00:00', '2021-09-16 00:00:00',\n",
       " '2021-09-15 00:00:00',\n",
       " ...\n",
       " '2018-09-27 00:00:00', '2017-03-23 00:00:00', '2016-12-25 00:00:00',\n",
       " '2016-11-30 00:00:00', '2017-10-23 00:00:00', '2017-11-04 00:00:00',\n",
       " '2015-08-05 00:00:00', '2018-12-06 00:00:00', '2016-03-09 00:00:00',\n",
       " '2020-01-11 00:00:00']\n",
       "Length: 1714, dtype: datetime64[ns]"
      ]
     },
     "execution_count": 43,
     "metadata": {},
     "output_type": "execute_result"
    }
   ],
   "source": [
    "df[\"date_added\"].unique()"
   ]
  },
  {
   "cell_type": "code",
   "execution_count": 44,
   "id": "50822d8c-09d0-49a2-8b05-25a9705a7978",
   "metadata": {},
   "outputs": [
    {
     "name": "stderr",
     "output_type": "stream",
     "text": [
      "C:\\Users\\shaimishra\\AppData\\Local\\Temp\\ipykernel_33932\\1025263937.py:1: SettingWithCopyWarning: \n",
      "A value is trying to be set on a copy of a slice from a DataFrame.\n",
      "Try using .loc[row_indexer,col_indexer] = value instead\n",
      "\n",
      "See the caveats in the documentation: https://pandas.pydata.org/pandas-docs/stable/user_guide/indexing.html#returning-a-view-versus-a-copy\n",
      "  df[\"year\"]=df[\"date_added\"].dt.year\n"
     ]
    }
   ],
   "source": [
    "df[\"year\"]=df[\"date_added\"].dt.year"
   ]
  },
  {
   "cell_type": "code",
   "execution_count": 45,
   "id": "d844c529-3b76-4b15-b79e-5d4c663bcc39",
   "metadata": {},
   "outputs": [
    {
     "name": "stderr",
     "output_type": "stream",
     "text": [
      "C:\\Users\\shaimishra\\AppData\\Local\\Temp\\ipykernel_33932\\4265263075.py:1: SettingWithCopyWarning: \n",
      "A value is trying to be set on a copy of a slice from a DataFrame.\n",
      "Try using .loc[row_indexer,col_indexer] = value instead\n",
      "\n",
      "See the caveats in the documentation: https://pandas.pydata.org/pandas-docs/stable/user_guide/indexing.html#returning-a-view-versus-a-copy\n",
      "  df[\"month\"]=df[\"date_added\"].dt.month\n"
     ]
    }
   ],
   "source": [
    "df[\"month\"]=df[\"date_added\"].dt.month"
   ]
  },
  {
   "cell_type": "code",
   "execution_count": 46,
   "id": "b3d41f9c-2d46-4a27-9313-b98428a30a3b",
   "metadata": {},
   "outputs": [
    {
     "name": "stderr",
     "output_type": "stream",
     "text": [
      "C:\\Users\\shaimishra\\AppData\\Local\\Temp\\ipykernel_33932\\292946900.py:1: SettingWithCopyWarning: \n",
      "A value is trying to be set on a copy of a slice from a DataFrame.\n",
      "Try using .loc[row_indexer,col_indexer] = value instead\n",
      "\n",
      "See the caveats in the documentation: https://pandas.pydata.org/pandas-docs/stable/user_guide/indexing.html#returning-a-view-versus-a-copy\n",
      "  df[\"day\"]=df[\"date_added\"].dt.day\n"
     ]
    }
   ],
   "source": [
    "df[\"day\"]=df[\"date_added\"].dt.day"
   ]
  },
  {
   "cell_type": "code",
   "execution_count": 47,
   "id": "a991bf10-84e8-4277-88c2-981a9627d824",
   "metadata": {},
   "outputs": [
    {
     "data": {
      "text/html": [
       "<div>\n",
       "<style scoped>\n",
       "    .dataframe tbody tr th:only-of-type {\n",
       "        vertical-align: middle;\n",
       "    }\n",
       "\n",
       "    .dataframe tbody tr th {\n",
       "        vertical-align: top;\n",
       "    }\n",
       "\n",
       "    .dataframe thead th {\n",
       "        text-align: right;\n",
       "    }\n",
       "</style>\n",
       "<table border=\"1\" class=\"dataframe\">\n",
       "  <thead>\n",
       "    <tr style=\"text-align: right;\">\n",
       "      <th></th>\n",
       "      <th>type</th>\n",
       "      <th>title</th>\n",
       "      <th>director</th>\n",
       "      <th>cast</th>\n",
       "      <th>country</th>\n",
       "      <th>date_added</th>\n",
       "      <th>release_year</th>\n",
       "      <th>rating</th>\n",
       "      <th>duration</th>\n",
       "      <th>listed_in</th>\n",
       "      <th>year</th>\n",
       "      <th>month</th>\n",
       "      <th>day</th>\n",
       "    </tr>\n",
       "  </thead>\n",
       "  <tbody>\n",
       "    <tr>\n",
       "      <th>5208</th>\n",
       "      <td>TV Show</td>\n",
       "      <td>Haters Back Off</td>\n",
       "      <td>Not Mentioned</td>\n",
       "      <td>Colleen Ballinger, Angela Kinsey, Steve Little...</td>\n",
       "      <td>United States</td>\n",
       "      <td>2017-10-20</td>\n",
       "      <td>2017</td>\n",
       "      <td>TV-PG</td>\n",
       "      <td>2 Seasons</td>\n",
       "      <td>TV Comedies, Teen TV Shows</td>\n",
       "      <td>2017</td>\n",
       "      <td>10</td>\n",
       "      <td>20</td>\n",
       "    </tr>\n",
       "    <tr>\n",
       "      <th>5769</th>\n",
       "      <td>TV Show</td>\n",
       "      <td>Masha's Spooky Stories</td>\n",
       "      <td>Not Mentioned</td>\n",
       "      <td>Not Mentioned</td>\n",
       "      <td>United States, Russia</td>\n",
       "      <td>2016-10-01</td>\n",
       "      <td>2012</td>\n",
       "      <td>TV-Y</td>\n",
       "      <td>1 Season</td>\n",
       "      <td>Kids' TV</td>\n",
       "      <td>2016</td>\n",
       "      <td>10</td>\n",
       "      <td>1</td>\n",
       "    </tr>\n",
       "    <tr>\n",
       "      <th>1096</th>\n",
       "      <td>Movie</td>\n",
       "      <td>The Last Kids on Earth: Happy Apocalypse to You</td>\n",
       "      <td>Steve Rolston</td>\n",
       "      <td>Nick Wolfhard, Charles Demers, Montse Hernande...</td>\n",
       "      <td>United States</td>\n",
       "      <td>2021-04-06</td>\n",
       "      <td>2021</td>\n",
       "      <td>TV-Y7</td>\n",
       "      <td>92 min</td>\n",
       "      <td>Children &amp; Family Movies, Comedies</td>\n",
       "      <td>2021</td>\n",
       "      <td>4</td>\n",
       "      <td>6</td>\n",
       "    </tr>\n",
       "    <tr>\n",
       "      <th>8784</th>\n",
       "      <td>Movie</td>\n",
       "      <td>Yoko and His Friends</td>\n",
       "      <td>Not Mentioned</td>\n",
       "      <td>Eileen Stevens, Alyson Leigh Rosenfeld, Sarah ...</td>\n",
       "      <td>Russia, Spain</td>\n",
       "      <td>2018-06-23</td>\n",
       "      <td>2015</td>\n",
       "      <td>TV-Y</td>\n",
       "      <td>78 min</td>\n",
       "      <td>Children &amp; Family Movies</td>\n",
       "      <td>2018</td>\n",
       "      <td>6</td>\n",
       "      <td>23</td>\n",
       "    </tr>\n",
       "    <tr>\n",
       "      <th>4582</th>\n",
       "      <td>Movie</td>\n",
       "      <td>Luv Shuv Tey Chicken Khurana</td>\n",
       "      <td>Sameer Sharma</td>\n",
       "      <td>Kunal Kapoor, Huma Qureshi, Rajesh Sharma, Vip...</td>\n",
       "      <td>India</td>\n",
       "      <td>2018-10-01</td>\n",
       "      <td>2012</td>\n",
       "      <td>TV-14</td>\n",
       "      <td>129 min</td>\n",
       "      <td>Comedies, International Movies, Romantic Movies</td>\n",
       "      <td>2018</td>\n",
       "      <td>10</td>\n",
       "      <td>1</td>\n",
       "    </tr>\n",
       "  </tbody>\n",
       "</table>\n",
       "</div>"
      ],
      "text/plain": [
       "         type                                            title       director  \\\n",
       "5208  TV Show                                  Haters Back Off  Not Mentioned   \n",
       "5769  TV Show                           Masha's Spooky Stories  Not Mentioned   \n",
       "1096    Movie  The Last Kids on Earth: Happy Apocalypse to You  Steve Rolston   \n",
       "8784    Movie                             Yoko and His Friends  Not Mentioned   \n",
       "4582    Movie                     Luv Shuv Tey Chicken Khurana  Sameer Sharma   \n",
       "\n",
       "                                                   cast  \\\n",
       "5208  Colleen Ballinger, Angela Kinsey, Steve Little...   \n",
       "5769                                      Not Mentioned   \n",
       "1096  Nick Wolfhard, Charles Demers, Montse Hernande...   \n",
       "8784  Eileen Stevens, Alyson Leigh Rosenfeld, Sarah ...   \n",
       "4582  Kunal Kapoor, Huma Qureshi, Rajesh Sharma, Vip...   \n",
       "\n",
       "                    country date_added  release_year rating   duration  \\\n",
       "5208          United States 2017-10-20          2017  TV-PG  2 Seasons   \n",
       "5769  United States, Russia 2016-10-01          2012   TV-Y   1 Season   \n",
       "1096          United States 2021-04-06          2021  TV-Y7     92 min   \n",
       "8784          Russia, Spain 2018-06-23          2015   TV-Y     78 min   \n",
       "4582                  India 2018-10-01          2012  TV-14    129 min   \n",
       "\n",
       "                                            listed_in  year  month  day  \n",
       "5208                       TV Comedies, Teen TV Shows  2017     10   20  \n",
       "5769                                         Kids' TV  2016     10    1  \n",
       "1096               Children & Family Movies, Comedies  2021      4    6  \n",
       "8784                         Children & Family Movies  2018      6   23  \n",
       "4582  Comedies, International Movies, Romantic Movies  2018     10    1  "
      ]
     },
     "execution_count": 47,
     "metadata": {},
     "output_type": "execute_result"
    }
   ],
   "source": [
    "df.sample(5)"
   ]
  },
  {
   "cell_type": "code",
   "execution_count": 48,
   "id": "52fab8e4-bb84-4073-94ed-2ef2c872d09d",
   "metadata": {},
   "outputs": [
    {
     "name": "stderr",
     "output_type": "stream",
     "text": [
      "C:\\Users\\shaimishra\\AppData\\Local\\Temp\\ipykernel_33932\\1152160010.py:1: SettingWithCopyWarning: \n",
      "A value is trying to be set on a copy of a slice from a DataFrame.\n",
      "Try using .loc[row_indexer,col_indexer] = value instead\n",
      "\n",
      "See the caveats in the documentation: https://pandas.pydata.org/pandas-docs/stable/user_guide/indexing.html#returning-a-view-versus-a-copy\n",
      "  df[\"genre\"]= df[\"listed_in\"].str.split(\",\").str[0]\n"
     ]
    }
   ],
   "source": [
    "df[\"genre\"]= df[\"listed_in\"].str.split(\",\").str[0]"
   ]
  },
  {
   "cell_type": "code",
   "execution_count": 49,
   "id": "c093b294-33e0-465a-873e-b21de39132d0",
   "metadata": {},
   "outputs": [
    {
     "data": {
      "text/plain": [
       "genre\n",
       "Dramas                    1600\n",
       "Comedies                  1210\n",
       "Action & Adventure         859\n",
       "Documentaries              829\n",
       "International TV Shows     774\n",
       "Name: count, dtype: int64"
      ]
     },
     "execution_count": 49,
     "metadata": {},
     "output_type": "execute_result"
    }
   ],
   "source": [
    "df[\"genre\"].value_counts().head(5)"
   ]
  },
  {
   "cell_type": "code",
   "execution_count": 50,
   "id": "467f5c0a-96bf-49b0-a2dd-30720b024d6f",
   "metadata": {},
   "outputs": [],
   "source": [
    "df = df[df[\"cast\"]!=\"Not Mentioned\"]"
   ]
  },
  {
   "cell_type": "code",
   "execution_count": 51,
   "id": "6dc22832-b9ba-4b79-9789-01bbeb9f493f",
   "metadata": {},
   "outputs": [],
   "source": [
    "df[\"lead_actor\"] = df[\"cast\"].str.split(\",\").str[0]"
   ]
  },
  {
   "cell_type": "code",
   "execution_count": 53,
   "id": "91bf4de9-4543-46b5-8e5b-d7a1cd4c44ee",
   "metadata": {},
   "outputs": [
    {
     "data": {
      "text/plain": [
       "lead_actor\n",
       "Shah Rukh Khan        26\n",
       "Akshay Kumar          23\n",
       "David Attenborough    20\n",
       "Adam Sandler          20\n",
       "Amitabh Bachchan      20\n",
       "Name: count, dtype: int64"
      ]
     },
     "execution_count": 53,
     "metadata": {},
     "output_type": "execute_result"
    }
   ],
   "source": [
    "df[\"lead_actor\"].value_counts().head(5)"
   ]
  },
  {
   "cell_type": "code",
   "execution_count": 54,
   "id": "d485e166-6c07-40b8-99ab-d477793fb7ea",
   "metadata": {},
   "outputs": [
    {
     "data": {
      "text/html": [
       "<div>\n",
       "<style scoped>\n",
       "    .dataframe tbody tr th:only-of-type {\n",
       "        vertical-align: middle;\n",
       "    }\n",
       "\n",
       "    .dataframe tbody tr th {\n",
       "        vertical-align: top;\n",
       "    }\n",
       "\n",
       "    .dataframe thead th {\n",
       "        text-align: right;\n",
       "    }\n",
       "</style>\n",
       "<table border=\"1\" class=\"dataframe\">\n",
       "  <thead>\n",
       "    <tr style=\"text-align: right;\">\n",
       "      <th></th>\n",
       "      <th>type</th>\n",
       "      <th>title</th>\n",
       "      <th>director</th>\n",
       "      <th>cast</th>\n",
       "      <th>country</th>\n",
       "      <th>date_added</th>\n",
       "      <th>release_year</th>\n",
       "      <th>rating</th>\n",
       "      <th>duration</th>\n",
       "      <th>listed_in</th>\n",
       "      <th>year</th>\n",
       "      <th>month</th>\n",
       "      <th>day</th>\n",
       "      <th>genre</th>\n",
       "      <th>lead_actor</th>\n",
       "    </tr>\n",
       "  </thead>\n",
       "  <tbody>\n",
       "    <tr>\n",
       "      <th>6200</th>\n",
       "      <td>Movie</td>\n",
       "      <td>Avengers: Infinity War</td>\n",
       "      <td>Anthony Russo, Joe Russo</td>\n",
       "      <td>Robert Downey Jr., Josh Brolin, Mark Ruffalo, ...</td>\n",
       "      <td>United States</td>\n",
       "      <td>2018-12-25</td>\n",
       "      <td>2018</td>\n",
       "      <td>PG-13</td>\n",
       "      <td>150 min</td>\n",
       "      <td>Action &amp; Adventure, Sci-Fi &amp; Fantasy</td>\n",
       "      <td>2018</td>\n",
       "      <td>12</td>\n",
       "      <td>25</td>\n",
       "      <td>Action &amp; Adventure</td>\n",
       "      <td>Robert Downey Jr.</td>\n",
       "    </tr>\n",
       "    <tr>\n",
       "      <th>8054</th>\n",
       "      <td>Movie</td>\n",
       "      <td>Some Freaks</td>\n",
       "      <td>Ian MacAllister-McDonald</td>\n",
       "      <td>Thomas Mann, Lily Mae Harrington, Ely Henry, L...</td>\n",
       "      <td>United States</td>\n",
       "      <td>2017-12-18</td>\n",
       "      <td>2017</td>\n",
       "      <td>TV-MA</td>\n",
       "      <td>97 min</td>\n",
       "      <td>Dramas, Romantic Movies</td>\n",
       "      <td>2017</td>\n",
       "      <td>12</td>\n",
       "      <td>18</td>\n",
       "      <td>Dramas</td>\n",
       "      <td>Thomas Mann</td>\n",
       "    </tr>\n",
       "    <tr>\n",
       "      <th>1920</th>\n",
       "      <td>Movie</td>\n",
       "      <td>The Book of Sun</td>\n",
       "      <td>Faris Godus</td>\n",
       "      <td>Baraa Alem, Ismail Alhassan, Ahmed Saddam, Soh...</td>\n",
       "      <td>Saudi Arabia</td>\n",
       "      <td>2020-10-01</td>\n",
       "      <td>2020</td>\n",
       "      <td>TV-14</td>\n",
       "      <td>120 min</td>\n",
       "      <td>Comedies, Independent Movies, International Mo...</td>\n",
       "      <td>2020</td>\n",
       "      <td>10</td>\n",
       "      <td>1</td>\n",
       "      <td>Comedies</td>\n",
       "      <td>Baraa Alem</td>\n",
       "    </tr>\n",
       "    <tr>\n",
       "      <th>6863</th>\n",
       "      <td>Movie</td>\n",
       "      <td>God's Own Country</td>\n",
       "      <td>Francis Lee</td>\n",
       "      <td>Josh O'Connor, Alec Secareanu, Ian Hart, Gemma...</td>\n",
       "      <td>United Kingdom</td>\n",
       "      <td>2018-05-01</td>\n",
       "      <td>2017</td>\n",
       "      <td>TV-MA</td>\n",
       "      <td>105 min</td>\n",
       "      <td>Dramas, Independent Movies, International Movies</td>\n",
       "      <td>2018</td>\n",
       "      <td>5</td>\n",
       "      <td>1</td>\n",
       "      <td>Dramas</td>\n",
       "      <td>Josh O'Connor</td>\n",
       "    </tr>\n",
       "    <tr>\n",
       "      <th>7320</th>\n",
       "      <td>Movie</td>\n",
       "      <td>Little Sister</td>\n",
       "      <td>Zach Clark</td>\n",
       "      <td>Addison Timlin, Ally Sheedy, Keith Poulson, Pe...</td>\n",
       "      <td>United States</td>\n",
       "      <td>2017-01-14</td>\n",
       "      <td>2016</td>\n",
       "      <td>NR</td>\n",
       "      <td>91 min</td>\n",
       "      <td>Comedies, Dramas, Independent Movies</td>\n",
       "      <td>2017</td>\n",
       "      <td>1</td>\n",
       "      <td>14</td>\n",
       "      <td>Comedies</td>\n",
       "      <td>Addison Timlin</td>\n",
       "    </tr>\n",
       "  </tbody>\n",
       "</table>\n",
       "</div>"
      ],
      "text/plain": [
       "       type                   title                  director  \\\n",
       "6200  Movie  Avengers: Infinity War  Anthony Russo, Joe Russo   \n",
       "8054  Movie             Some Freaks  Ian MacAllister-McDonald   \n",
       "1920  Movie         The Book of Sun               Faris Godus   \n",
       "6863  Movie       God's Own Country               Francis Lee   \n",
       "7320  Movie           Little Sister                Zach Clark   \n",
       "\n",
       "                                                   cast         country  \\\n",
       "6200  Robert Downey Jr., Josh Brolin, Mark Ruffalo, ...   United States   \n",
       "8054  Thomas Mann, Lily Mae Harrington, Ely Henry, L...   United States   \n",
       "1920  Baraa Alem, Ismail Alhassan, Ahmed Saddam, Soh...    Saudi Arabia   \n",
       "6863  Josh O'Connor, Alec Secareanu, Ian Hart, Gemma...  United Kingdom   \n",
       "7320  Addison Timlin, Ally Sheedy, Keith Poulson, Pe...   United States   \n",
       "\n",
       "     date_added  release_year rating duration  \\\n",
       "6200 2018-12-25          2018  PG-13  150 min   \n",
       "8054 2017-12-18          2017  TV-MA   97 min   \n",
       "1920 2020-10-01          2020  TV-14  120 min   \n",
       "6863 2018-05-01          2017  TV-MA  105 min   \n",
       "7320 2017-01-14          2016     NR   91 min   \n",
       "\n",
       "                                              listed_in  year  month  day  \\\n",
       "6200               Action & Adventure, Sci-Fi & Fantasy  2018     12   25   \n",
       "8054                            Dramas, Romantic Movies  2017     12   18   \n",
       "1920  Comedies, Independent Movies, International Mo...  2020     10    1   \n",
       "6863   Dramas, Independent Movies, International Movies  2018      5    1   \n",
       "7320               Comedies, Dramas, Independent Movies  2017      1   14   \n",
       "\n",
       "                   genre         lead_actor  \n",
       "6200  Action & Adventure  Robert Downey Jr.  \n",
       "8054              Dramas        Thomas Mann  \n",
       "1920            Comedies         Baraa Alem  \n",
       "6863              Dramas      Josh O'Connor  \n",
       "7320            Comedies     Addison Timlin  "
      ]
     },
     "execution_count": 54,
     "metadata": {},
     "output_type": "execute_result"
    }
   ],
   "source": [
    "df.sample(5)"
   ]
  },
  {
   "cell_type": "code",
   "execution_count": 55,
   "id": "4246758c-5204-4dd4-bd69-8563695e1d88",
   "metadata": {},
   "outputs": [],
   "source": [
    "df.drop([\"date_added\",\"listed_in\",\"cast\"], axis=1, inplace=True)"
   ]
  },
  {
   "cell_type": "code",
   "execution_count": 56,
   "id": "7f1d700d-58e2-43d0-a5e8-ea9a0e42e37a",
   "metadata": {},
   "outputs": [
    {
     "data": {
      "text/html": [
       "<div>\n",
       "<style scoped>\n",
       "    .dataframe tbody tr th:only-of-type {\n",
       "        vertical-align: middle;\n",
       "    }\n",
       "\n",
       "    .dataframe tbody tr th {\n",
       "        vertical-align: top;\n",
       "    }\n",
       "\n",
       "    .dataframe thead th {\n",
       "        text-align: right;\n",
       "    }\n",
       "</style>\n",
       "<table border=\"1\" class=\"dataframe\">\n",
       "  <thead>\n",
       "    <tr style=\"text-align: right;\">\n",
       "      <th></th>\n",
       "      <th>type</th>\n",
       "      <th>title</th>\n",
       "      <th>director</th>\n",
       "      <th>country</th>\n",
       "      <th>release_year</th>\n",
       "      <th>rating</th>\n",
       "      <th>duration</th>\n",
       "      <th>year</th>\n",
       "      <th>month</th>\n",
       "      <th>day</th>\n",
       "      <th>genre</th>\n",
       "      <th>lead_actor</th>\n",
       "    </tr>\n",
       "  </thead>\n",
       "  <tbody>\n",
       "    <tr>\n",
       "      <th>341</th>\n",
       "      <td>Movie</td>\n",
       "      <td>Magnolia</td>\n",
       "      <td>Paul Thomas Anderson</td>\n",
       "      <td>United States</td>\n",
       "      <td>1999</td>\n",
       "      <td>R</td>\n",
       "      <td>189 min</td>\n",
       "      <td>2021</td>\n",
       "      <td>8</td>\n",
       "      <td>1</td>\n",
       "      <td>Dramas</td>\n",
       "      <td>John C. Reilly</td>\n",
       "    </tr>\n",
       "    <tr>\n",
       "      <th>4510</th>\n",
       "      <td>Movie</td>\n",
       "      <td>Apostle</td>\n",
       "      <td>Gareth Evans</td>\n",
       "      <td>United Kingdom, United States</td>\n",
       "      <td>2018</td>\n",
       "      <td>TV-MA</td>\n",
       "      <td>130 min</td>\n",
       "      <td>2018</td>\n",
       "      <td>10</td>\n",
       "      <td>12</td>\n",
       "      <td>Horror Movies</td>\n",
       "      <td>Dan Stevens</td>\n",
       "    </tr>\n",
       "    <tr>\n",
       "      <th>5478</th>\n",
       "      <td>Movie</td>\n",
       "      <td>Laerte-se</td>\n",
       "      <td>Lygia Barbosa da Silva, Eliane Brum</td>\n",
       "      <td>Brazil</td>\n",
       "      <td>2017</td>\n",
       "      <td>TV-MA</td>\n",
       "      <td>101 min</td>\n",
       "      <td>2017</td>\n",
       "      <td>5</td>\n",
       "      <td>19</td>\n",
       "      <td>Documentaries</td>\n",
       "      <td>Laerte Coutinho</td>\n",
       "    </tr>\n",
       "    <tr>\n",
       "      <th>7072</th>\n",
       "      <td>Movie</td>\n",
       "      <td>Indiana Jones and the Raiders of the Lost Ark</td>\n",
       "      <td>Steven Spielberg</td>\n",
       "      <td>United States</td>\n",
       "      <td>1981</td>\n",
       "      <td>PG</td>\n",
       "      <td>116 min</td>\n",
       "      <td>2019</td>\n",
       "      <td>1</td>\n",
       "      <td>1</td>\n",
       "      <td>Action &amp; Adventure</td>\n",
       "      <td>Harrison Ford</td>\n",
       "    </tr>\n",
       "    <tr>\n",
       "      <th>7506</th>\n",
       "      <td>Movie</td>\n",
       "      <td>Moon</td>\n",
       "      <td>Duncan Jones</td>\n",
       "      <td>United Kingdom, United States</td>\n",
       "      <td>2009</td>\n",
       "      <td>R</td>\n",
       "      <td>97 min</td>\n",
       "      <td>2020</td>\n",
       "      <td>1</td>\n",
       "      <td>1</td>\n",
       "      <td>Dramas</td>\n",
       "      <td>Sam Rockwell</td>\n",
       "    </tr>\n",
       "  </tbody>\n",
       "</table>\n",
       "</div>"
      ],
      "text/plain": [
       "       type                                          title  \\\n",
       "341   Movie                                       Magnolia   \n",
       "4510  Movie                                        Apostle   \n",
       "5478  Movie                                      Laerte-se   \n",
       "7072  Movie  Indiana Jones and the Raiders of the Lost Ark   \n",
       "7506  Movie                                           Moon   \n",
       "\n",
       "                                 director                        country  \\\n",
       "341                  Paul Thomas Anderson                  United States   \n",
       "4510                         Gareth Evans  United Kingdom, United States   \n",
       "5478  Lygia Barbosa da Silva, Eliane Brum                         Brazil   \n",
       "7072                     Steven Spielberg                  United States   \n",
       "7506                         Duncan Jones  United Kingdom, United States   \n",
       "\n",
       "      release_year rating duration  year  month  day               genre  \\\n",
       "341           1999      R  189 min  2021      8    1              Dramas   \n",
       "4510          2018  TV-MA  130 min  2018     10   12       Horror Movies   \n",
       "5478          2017  TV-MA  101 min  2017      5   19       Documentaries   \n",
       "7072          1981     PG  116 min  2019      1    1  Action & Adventure   \n",
       "7506          2009      R   97 min  2020      1    1              Dramas   \n",
       "\n",
       "           lead_actor  \n",
       "341    John C. Reilly  \n",
       "4510      Dan Stevens  \n",
       "5478  Laerte Coutinho  \n",
       "7072    Harrison Ford  \n",
       "7506     Sam Rockwell  "
      ]
     },
     "execution_count": 56,
     "metadata": {},
     "output_type": "execute_result"
    }
   ],
   "source": [
    "df.sample(5)"
   ]
  },
  {
   "cell_type": "code",
   "execution_count": 58,
   "id": "4b452dc4-5f3f-4103-828e-0a5f523842d2",
   "metadata": {},
   "outputs": [],
   "source": [
    "df.to_csv(\"cleaned_data.csv\")"
   ]
  },
  {
   "cell_type": "code",
   "execution_count": null,
   "id": "0e7d1382-c88b-4c3c-a05f-a3513baaf9b5",
   "metadata": {},
   "outputs": [],
   "source": []
  }
 ],
 "metadata": {
  "kernelspec": {
   "display_name": "Python 3 (ipykernel)",
   "language": "python",
   "name": "python3"
  },
  "language_info": {
   "codemirror_mode": {
    "name": "ipython",
    "version": 3
   },
   "file_extension": ".py",
   "mimetype": "text/x-python",
   "name": "python",
   "nbconvert_exporter": "python",
   "pygments_lexer": "ipython3",
   "version": "3.12.6"
  }
 },
 "nbformat": 4,
 "nbformat_minor": 5
}
